{
  "nbformat": 4,
  "nbformat_minor": 0,
  "metadata": {
    "colab": {
      "name": "Challenge_Analysis_new.ipynb",
      "provenance": [],
      "collapsed_sections": [],
      "authorship_tag": "ABX9TyO88xD2xZKJduac2hOHvzEL",
      "include_colab_link": true
    },
    "kernelspec": {
      "name": "python3",
      "display_name": "Python 3"
    }
  },
  "cells": [
    {
      "cell_type": "markdown",
      "metadata": {
        "id": "view-in-github",
        "colab_type": "text"
      },
      "source": [
        "<a href=\"https://colab.research.google.com/github/pqrt12/BigData/blob/master/Challenge_Analysis_new.ipynb\" target=\"_parent\"><img src=\"https://colab.research.google.com/assets/colab-badge.svg\" alt=\"Open In Colab\"/></a>"
      ]
    },
    {
      "cell_type": "markdown",
      "metadata": {
        "id": "v-NBBVw4C1fc",
        "colab_type": "text"
      },
      "source": [
        "## Install Java, Spark, Findspark, postgres, etc."
      ]
    },
    {
      "cell_type": "code",
      "metadata": {
        "id": "yftJLdyfjtrm",
        "colab_type": "code",
        "colab": {}
      },
      "source": [
        "# Install Java, Spark, and Findspark\n",
        "!apt-get install openjdk-8-jdk-headless -qq > /dev/null\n",
        "!wget -q http://www-us.apache.org/dist/spark/spark-2.4.5/spark-2.4.5-bin-hadoop2.7.tgz\n",
        "!tar xf spark-2.4.5-bin-hadoop2.7.tgz\n",
        "!pip install -q findspark\n",
        "\n",
        "# Set Environment Variables\n",
        "import os\n",
        "os.environ[\"JAVA_HOME\"] = \"/usr/lib/jvm/java-8-openjdk-amd64\"\n",
        "os.environ[\"SPARK_HOME\"] = \"/content/spark-2.4.5-bin-hadoop2.7\"\n",
        "\n",
        "# Start a SparkSession\n",
        "import findspark\n",
        "findspark.init()"
      ],
      "execution_count": 0,
      "outputs": []
    },
    {
      "cell_type": "code",
      "metadata": {
        "id": "tJq8LQ11luV4",
        "colab_type": "code",
        "colab": {}
      },
      "source": [
        "from pyspark.sql import SparkSession\n",
        "spark = SparkSession.builder.appName(\"ChallengeAnalysis\").config(\"spark.driver.extraClassPath\",\"/content/postgresql-42.2.9.jar\").getOrCreate()"
      ],
      "execution_count": 0,
      "outputs": []
    },
    {
      "cell_type": "markdown",
      "metadata": {
        "id": "DVglnB2yDLxq",
        "colab_type": "text"
      },
      "source": [
        "## Extract\n",
        "\n"
      ]
    },
    {
      "cell_type": "code",
      "metadata": {
        "id": "jvNcyJdKrby6",
        "colab_type": "code",
        "colab": {}
      },
      "source": [
        "# Read in data from S3 Buckets\n",
        "from pyspark import SparkFiles\n",
        "aws_s3_base_url = \"https://s3.amazonaws.com/amazon-reviews-pds/tsv/\"\n",
        "#filename = \"sample_us.tsv\"\n",
        "filename = \"amazon_reviews_us_Wireless_v1_00.tsv.gz\"\n",
        "spark.sparkContext.addFile(aws_s3_base_url + filename)\n",
        "raw_data_df = spark.read.csv(SparkFiles.get(filename), sep=\"\\t\", header=True, inferSchema=True)"
      ],
      "execution_count": 0,
      "outputs": []
    },
    {
      "cell_type": "code",
      "metadata": {
        "id": "5-qG3bEeevLI",
        "colab_type": "code",
        "outputId": "3fcaddbe-08e5-4339-a89a-7dc537085403",
        "colab": {
          "base_uri": "https://localhost:8080/",
          "height": 190
        }
      },
      "source": [
        "# Show DataFrame\n",
        "raw_data_df.show(3)"
      ],
      "execution_count": 4,
      "outputs": [
        {
          "output_type": "stream",
          "text": [
            "+-----------+-----------+--------------+----------+--------------+--------------------+----------------+-----------+-------------+-----------+----+-----------------+--------------------+--------------------+-------------------+\n",
            "|marketplace|customer_id|     review_id|product_id|product_parent|       product_title|product_category|star_rating|helpful_votes|total_votes|vine|verified_purchase|     review_headline|         review_body|        review_date|\n",
            "+-----------+-----------+--------------+----------+--------------+--------------------+----------------+-----------+-------------+-----------+----+-----------------+--------------------+--------------------+-------------------+\n",
            "|         US|   16414143|R3W4P9UBGNGH1U|B00YL0EKWE|     852431543|LG G4 Case Hard T...|        Wireless|          2|            1|          3|   N|                Y|Looks good, funct...|2 issues  -  Once...|2015-08-31 00:00:00|\n",
            "|         US|   50800750|R15V54KBMTQWAY|B00XK95RPQ|     516894650|Selfie Stick Fibl...|        Wireless|          4|            0|          0|   N|                N| A fun little gadget|I’m embarrassed t...|2015-08-31 00:00:00|\n",
            "|         US|   15184378| RY8I449HNXSVF|B00SXRXUKO|     984297154|Tribe AB40 Water ...|        Wireless|          5|            0|          0|   N|                Y|          Five Stars|  Fits iPhone 6 well|2015-08-31 00:00:00|\n",
            "+-----------+-----------+--------------+----------+--------------+--------------------+----------------+-----------+-------------+-----------+----+-----------------+--------------------+--------------------+-------------------+\n",
            "only showing top 3 rows\n",
            "\n"
          ],
          "name": "stdout"
        }
      ]
    },
    {
      "cell_type": "markdown",
      "metadata": {
        "id": "vVCip3Yfu03D",
        "colab_type": "text"
      },
      "source": [
        "## Transform\n",
        "### filtering"
      ]
    },
    {
      "cell_type": "code",
      "metadata": {
        "id": "mohVtQT98sOY",
        "colab_type": "code",
        "outputId": "30517238-45f9-472b-bfce-9f98f6240818",
        "colab": {
          "base_uri": "https://localhost:8080/",
          "height": 170
        }
      },
      "source": [
        "# transform, filtering:\n",
        "#   dropna, keep essentail columns only\n",
        "clean_data_df = raw_data_df.dropDuplicates(['review_id'])         \\\n",
        "                          .dropna().select(['star_rating', 'helpful_votes', 'total_votes', 'vine'])\n",
        "clean_data_df.show(3)"
      ],
      "execution_count": 5,
      "outputs": [
        {
          "output_type": "stream",
          "text": [
            "+-----------+-------------+-----------+----+\n",
            "|star_rating|helpful_votes|total_votes|vine|\n",
            "+-----------+-------------+-----------+----+\n",
            "|          4|            0|          0|   N|\n",
            "|          1|            0|          2|   N|\n",
            "|          5|            0|          2|   N|\n",
            "+-----------+-------------+-----------+----+\n",
            "only showing top 3 rows\n",
            "\n"
          ],
          "name": "stdout"
        }
      ]
    },
    {
      "cell_type": "code",
      "metadata": {
        "id": "jpWqlYllNMXG",
        "colab_type": "code",
        "colab": {}
      },
      "source": [
        "# keep influential opinions only\n",
        "select_df = clean_data_df.filter((clean_data_df['total_votes'] > 10) & (clean_data_df['helpful_votes'] > 3))\n",
        "#select_df = clean_data_df"
      ],
      "execution_count": 0,
      "outputs": []
    },
    {
      "cell_type": "markdown",
      "metadata": {
        "id": "5icIAFZ7mxKh",
        "colab_type": "text"
      },
      "source": [
        "### pySpark Statistics"
      ]
    },
    {
      "cell_type": "code",
      "metadata": {
        "id": "tsqNQV5b1TH9",
        "colab_type": "code",
        "colab": {
          "base_uri": "https://localhost:8080/",
          "height": 187
        },
        "outputId": "aef01644-9360-4833-fce3-6f9a0295734d"
      },
      "source": [
        "select_df.filter(select_df['vine'] == 'N').select(['star_rating', 'helpful_votes', 'total_votes']).describe().show()"
      ],
      "execution_count": 7,
      "outputs": [
        {
          "output_type": "stream",
          "text": [
            "+-------+------------------+-----------------+-----------------+\n",
            "|summary|       star_rating|    helpful_votes|      total_votes|\n",
            "+-------+------------------+-----------------+-----------------+\n",
            "|  count|            142586|           142586|           142586|\n",
            "|   mean|3.4538033186988906|32.16986941214425|37.32847544639726|\n",
            "| stddev|1.6645966320197683|80.54649483818837| 85.1031104498575|\n",
            "|    min|                 1|                4|               11|\n",
            "|    max|                 5|             5854|             6063|\n",
            "+-------+------------------+-----------------+-----------------+\n",
            "\n"
          ],
          "name": "stdout"
        }
      ]
    },
    {
      "cell_type": "code",
      "metadata": {
        "id": "8BcGlyeX2HfQ",
        "colab_type": "code",
        "colab": {
          "base_uri": "https://localhost:8080/",
          "height": 187
        },
        "outputId": "5c776fd4-60f7-4cb6-c206-c4bfcf65499a"
      },
      "source": [
        "select_df.filter(select_df['vine'] == 'Y').select(['star_rating', 'helpful_votes', 'total_votes']).describe().show()"
      ],
      "execution_count": 8,
      "outputs": [
        {
          "output_type": "stream",
          "text": [
            "+-------+------------------+------------------+------------------+\n",
            "|summary|       star_rating|     helpful_votes|       total_votes|\n",
            "+-------+------------------+------------------+------------------+\n",
            "|  count|              1047|              1047|              1047|\n",
            "|   mean| 3.884431709646609| 58.77077363896848| 64.68672397325692|\n",
            "| stddev|1.1229469206867972|118.94566695775106|124.12508049349833|\n",
            "|    min|                 1|                 4|                11|\n",
            "|    max|                 5|              1735|              1795|\n",
            "+-------+------------------+------------------+------------------+\n",
            "\n"
          ],
          "name": "stdout"
        }
      ]
    },
    {
      "cell_type": "markdown",
      "metadata": {
        "id": "meHdxcrJ4BJK",
        "colab_type": "text"
      },
      "source": [
        "### transform to pandas dataframe\n",
        "pySpark is done"
      ]
    },
    {
      "cell_type": "code",
      "metadata": {
        "id": "Co8hjt7SpSIv",
        "colab_type": "code",
        "colab": {}
      },
      "source": [
        "pdf = select_df.groupBy('star_rating', 'vine')                            \\\n",
        "          .agg({'helpful_votes':'avg', 'total_votes':'avg', '*':'count'}) \\\n",
        "          .toPandas()"
      ],
      "execution_count": 0,
      "outputs": []
    },
    {
      "cell_type": "markdown",
      "metadata": {
        "id": "4AnIA1WuzFRr",
        "colab_type": "text"
      },
      "source": [
        "### pandas dataframe transform"
      ]
    },
    {
      "cell_type": "code",
      "metadata": {
        "id": "_Qr1Jont4LMv",
        "colab_type": "code",
        "colab": {}
      },
      "source": [
        "# import the pandas module  \n",
        "import pandas as pd"
      ],
      "execution_count": 0,
      "outputs": []
    },
    {
      "cell_type": "code",
      "metadata": {
        "id": "vtROSxVmzLGs",
        "colab_type": "code",
        "colab": {
          "base_uri": "https://localhost:8080/",
          "height": 359
        },
        "outputId": "9f0df4d7-2393-4e03-a634-0947091d583f"
      },
      "source": [
        "pdf"
      ],
      "execution_count": 11,
      "outputs": [
        {
          "output_type": "execute_result",
          "data": {
            "text/html": [
              "<div>\n",
              "<style scoped>\n",
              "    .dataframe tbody tr th:only-of-type {\n",
              "        vertical-align: middle;\n",
              "    }\n",
              "\n",
              "    .dataframe tbody tr th {\n",
              "        vertical-align: top;\n",
              "    }\n",
              "\n",
              "    .dataframe thead th {\n",
              "        text-align: right;\n",
              "    }\n",
              "</style>\n",
              "<table border=\"1\" class=\"dataframe\">\n",
              "  <thead>\n",
              "    <tr style=\"text-align: right;\">\n",
              "      <th></th>\n",
              "      <th>star_rating</th>\n",
              "      <th>vine</th>\n",
              "      <th>avg(total_votes)</th>\n",
              "      <th>count(1)</th>\n",
              "      <th>avg(helpful_votes)</th>\n",
              "    </tr>\n",
              "  </thead>\n",
              "  <tbody>\n",
              "    <tr>\n",
              "      <th>0</th>\n",
              "      <td>5</td>\n",
              "      <td>N</td>\n",
              "      <td>39.104596</td>\n",
              "      <td>62440</td>\n",
              "      <td>35.434978</td>\n",
              "    </tr>\n",
              "    <tr>\n",
              "      <th>1</th>\n",
              "      <td>2</td>\n",
              "      <td>N</td>\n",
              "      <td>31.063428</td>\n",
              "      <td>10437</td>\n",
              "      <td>24.568267</td>\n",
              "    </tr>\n",
              "    <tr>\n",
              "      <th>2</th>\n",
              "      <td>3</td>\n",
              "      <td>N</td>\n",
              "      <td>38.915107</td>\n",
              "      <td>12451</td>\n",
              "      <td>33.308570</td>\n",
              "    </tr>\n",
              "    <tr>\n",
              "      <th>3</th>\n",
              "      <td>1</td>\n",
              "      <td>Y</td>\n",
              "      <td>33.518519</td>\n",
              "      <td>54</td>\n",
              "      <td>27.111111</td>\n",
              "    </tr>\n",
              "    <tr>\n",
              "      <th>4</th>\n",
              "      <td>2</td>\n",
              "      <td>Y</td>\n",
              "      <td>46.666667</td>\n",
              "      <td>69</td>\n",
              "      <td>38.971014</td>\n",
              "    </tr>\n",
              "    <tr>\n",
              "      <th>5</th>\n",
              "      <td>4</td>\n",
              "      <td>N</td>\n",
              "      <td>40.086880</td>\n",
              "      <td>21593</td>\n",
              "      <td>36.511601</td>\n",
              "    </tr>\n",
              "    <tr>\n",
              "      <th>6</th>\n",
              "      <td>5</td>\n",
              "      <td>Y</td>\n",
              "      <td>74.808000</td>\n",
              "      <td>375</td>\n",
              "      <td>68.970667</td>\n",
              "    </tr>\n",
              "    <tr>\n",
              "      <th>7</th>\n",
              "      <td>3</td>\n",
              "      <td>Y</td>\n",
              "      <td>57.739796</td>\n",
              "      <td>196</td>\n",
              "      <td>51.071429</td>\n",
              "    </tr>\n",
              "    <tr>\n",
              "      <th>8</th>\n",
              "      <td>1</td>\n",
              "      <td>N</td>\n",
              "      <td>33.828403</td>\n",
              "      <td>35665</td>\n",
              "      <td>25.651872</td>\n",
              "    </tr>\n",
              "    <tr>\n",
              "      <th>9</th>\n",
              "      <td>4</td>\n",
              "      <td>Y</td>\n",
              "      <td>66.082153</td>\n",
              "      <td>353</td>\n",
              "      <td>60.923513</td>\n",
              "    </tr>\n",
              "  </tbody>\n",
              "</table>\n",
              "</div>"
            ],
            "text/plain": [
              "  star_rating vine  avg(total_votes)  count(1)  avg(helpful_votes)\n",
              "0           5    N         39.104596     62440           35.434978\n",
              "1           2    N         31.063428     10437           24.568267\n",
              "2           3    N         38.915107     12451           33.308570\n",
              "3           1    Y         33.518519        54           27.111111\n",
              "4           2    Y         46.666667        69           38.971014\n",
              "5           4    N         40.086880     21593           36.511601\n",
              "6           5    Y         74.808000       375           68.970667\n",
              "7           3    Y         57.739796       196           51.071429\n",
              "8           1    N         33.828403     35665           25.651872\n",
              "9           4    Y         66.082153       353           60.923513"
            ]
          },
          "metadata": {
            "tags": []
          },
          "execution_count": 11
        }
      ]
    },
    {
      "cell_type": "code",
      "metadata": {
        "id": "HluG8YRluNkw",
        "colab_type": "code",
        "colab": {
          "base_uri": "https://localhost:8080/",
          "height": 359
        },
        "outputId": "a0d08c6a-094f-4337-df86-cb691f101938"
      },
      "source": [
        "col_renames = {'avg(total_votes)': 'avg_total_votes',\n",
        "               'count(1)': 'count',\n",
        "               'avg(helpful_votes)': 'avg_helpful_votes'\n",
        "              }\n",
        "pdf = pdf.rename(columns=col_renames)\n",
        "pdf"
      ],
      "execution_count": 12,
      "outputs": [
        {
          "output_type": "execute_result",
          "data": {
            "text/html": [
              "<div>\n",
              "<style scoped>\n",
              "    .dataframe tbody tr th:only-of-type {\n",
              "        vertical-align: middle;\n",
              "    }\n",
              "\n",
              "    .dataframe tbody tr th {\n",
              "        vertical-align: top;\n",
              "    }\n",
              "\n",
              "    .dataframe thead th {\n",
              "        text-align: right;\n",
              "    }\n",
              "</style>\n",
              "<table border=\"1\" class=\"dataframe\">\n",
              "  <thead>\n",
              "    <tr style=\"text-align: right;\">\n",
              "      <th></th>\n",
              "      <th>star_rating</th>\n",
              "      <th>vine</th>\n",
              "      <th>avg_total_votes</th>\n",
              "      <th>count</th>\n",
              "      <th>avg_helpful_votes</th>\n",
              "    </tr>\n",
              "  </thead>\n",
              "  <tbody>\n",
              "    <tr>\n",
              "      <th>0</th>\n",
              "      <td>5</td>\n",
              "      <td>N</td>\n",
              "      <td>39.104596</td>\n",
              "      <td>62440</td>\n",
              "      <td>35.434978</td>\n",
              "    </tr>\n",
              "    <tr>\n",
              "      <th>1</th>\n",
              "      <td>2</td>\n",
              "      <td>N</td>\n",
              "      <td>31.063428</td>\n",
              "      <td>10437</td>\n",
              "      <td>24.568267</td>\n",
              "    </tr>\n",
              "    <tr>\n",
              "      <th>2</th>\n",
              "      <td>3</td>\n",
              "      <td>N</td>\n",
              "      <td>38.915107</td>\n",
              "      <td>12451</td>\n",
              "      <td>33.308570</td>\n",
              "    </tr>\n",
              "    <tr>\n",
              "      <th>3</th>\n",
              "      <td>1</td>\n",
              "      <td>Y</td>\n",
              "      <td>33.518519</td>\n",
              "      <td>54</td>\n",
              "      <td>27.111111</td>\n",
              "    </tr>\n",
              "    <tr>\n",
              "      <th>4</th>\n",
              "      <td>2</td>\n",
              "      <td>Y</td>\n",
              "      <td>46.666667</td>\n",
              "      <td>69</td>\n",
              "      <td>38.971014</td>\n",
              "    </tr>\n",
              "    <tr>\n",
              "      <th>5</th>\n",
              "      <td>4</td>\n",
              "      <td>N</td>\n",
              "      <td>40.086880</td>\n",
              "      <td>21593</td>\n",
              "      <td>36.511601</td>\n",
              "    </tr>\n",
              "    <tr>\n",
              "      <th>6</th>\n",
              "      <td>5</td>\n",
              "      <td>Y</td>\n",
              "      <td>74.808000</td>\n",
              "      <td>375</td>\n",
              "      <td>68.970667</td>\n",
              "    </tr>\n",
              "    <tr>\n",
              "      <th>7</th>\n",
              "      <td>3</td>\n",
              "      <td>Y</td>\n",
              "      <td>57.739796</td>\n",
              "      <td>196</td>\n",
              "      <td>51.071429</td>\n",
              "    </tr>\n",
              "    <tr>\n",
              "      <th>8</th>\n",
              "      <td>1</td>\n",
              "      <td>N</td>\n",
              "      <td>33.828403</td>\n",
              "      <td>35665</td>\n",
              "      <td>25.651872</td>\n",
              "    </tr>\n",
              "    <tr>\n",
              "      <th>9</th>\n",
              "      <td>4</td>\n",
              "      <td>Y</td>\n",
              "      <td>66.082153</td>\n",
              "      <td>353</td>\n",
              "      <td>60.923513</td>\n",
              "    </tr>\n",
              "  </tbody>\n",
              "</table>\n",
              "</div>"
            ],
            "text/plain": [
              "  star_rating vine  avg_total_votes  count  avg_helpful_votes\n",
              "0           5    N        39.104596  62440          35.434978\n",
              "1           2    N        31.063428  10437          24.568267\n",
              "2           3    N        38.915107  12451          33.308570\n",
              "3           1    Y        33.518519     54          27.111111\n",
              "4           2    Y        46.666667     69          38.971014\n",
              "5           4    N        40.086880  21593          36.511601\n",
              "6           5    Y        74.808000    375          68.970667\n",
              "7           3    Y        57.739796    196          51.071429\n",
              "8           1    N        33.828403  35665          25.651872\n",
              "9           4    Y        66.082153    353          60.923513"
            ]
          },
          "metadata": {
            "tags": []
          },
          "execution_count": 12
        }
      ]
    },
    {
      "cell_type": "code",
      "metadata": {
        "id": "kfhGHF1BtNXp",
        "colab_type": "code",
        "colab": {
          "base_uri": "https://localhost:8080/",
          "height": 119
        },
        "outputId": "3dfda1b1-34e9-4033-ae64-65613df54e3e"
      },
      "source": [
        "pdf.dtypes"
      ],
      "execution_count": 13,
      "outputs": [
        {
          "output_type": "execute_result",
          "data": {
            "text/plain": [
              "star_rating           object\n",
              "vine                  object\n",
              "avg_total_votes      float64\n",
              "count                  int64\n",
              "avg_helpful_votes    float64\n",
              "dtype: object"
            ]
          },
          "metadata": {
            "tags": []
          },
          "execution_count": 13
        }
      ]
    },
    {
      "cell_type": "code",
      "metadata": {
        "id": "S2JO28ciyMcV",
        "colab_type": "code",
        "outputId": "884c4c9d-a6a8-4883-c6a9-de4d6f57a43e",
        "colab": {
          "base_uri": "https://localhost:8080/",
          "height": 306
        }
      },
      "source": [
        "# vine rating normalize.\n",
        "vine = pdf.loc[pdf['vine'] == 'Y']\n",
        "t = vine.copy(deep=True)\n",
        "vine['count'] = t['count'] / t['count'].sum()\n",
        "vine"
      ],
      "execution_count": 14,
      "outputs": [
        {
          "output_type": "stream",
          "text": [
            "/usr/local/lib/python3.6/dist-packages/ipykernel_launcher.py:3: SettingWithCopyWarning: \n",
            "A value is trying to be set on a copy of a slice from a DataFrame.\n",
            "Try using .loc[row_indexer,col_indexer] = value instead\n",
            "\n",
            "See the caveats in the documentation: https://pandas.pydata.org/pandas-docs/stable/user_guide/indexing.html#returning-a-view-versus-a-copy\n",
            "  This is separate from the ipykernel package so we can avoid doing imports until\n"
          ],
          "name": "stderr"
        },
        {
          "output_type": "execute_result",
          "data": {
            "text/html": [
              "<div>\n",
              "<style scoped>\n",
              "    .dataframe tbody tr th:only-of-type {\n",
              "        vertical-align: middle;\n",
              "    }\n",
              "\n",
              "    .dataframe tbody tr th {\n",
              "        vertical-align: top;\n",
              "    }\n",
              "\n",
              "    .dataframe thead th {\n",
              "        text-align: right;\n",
              "    }\n",
              "</style>\n",
              "<table border=\"1\" class=\"dataframe\">\n",
              "  <thead>\n",
              "    <tr style=\"text-align: right;\">\n",
              "      <th></th>\n",
              "      <th>star_rating</th>\n",
              "      <th>vine</th>\n",
              "      <th>avg_total_votes</th>\n",
              "      <th>count</th>\n",
              "      <th>avg_helpful_votes</th>\n",
              "    </tr>\n",
              "  </thead>\n",
              "  <tbody>\n",
              "    <tr>\n",
              "      <th>3</th>\n",
              "      <td>1</td>\n",
              "      <td>Y</td>\n",
              "      <td>33.518519</td>\n",
              "      <td>0.051576</td>\n",
              "      <td>27.111111</td>\n",
              "    </tr>\n",
              "    <tr>\n",
              "      <th>4</th>\n",
              "      <td>2</td>\n",
              "      <td>Y</td>\n",
              "      <td>46.666667</td>\n",
              "      <td>0.065903</td>\n",
              "      <td>38.971014</td>\n",
              "    </tr>\n",
              "    <tr>\n",
              "      <th>6</th>\n",
              "      <td>5</td>\n",
              "      <td>Y</td>\n",
              "      <td>74.808000</td>\n",
              "      <td>0.358166</td>\n",
              "      <td>68.970667</td>\n",
              "    </tr>\n",
              "    <tr>\n",
              "      <th>7</th>\n",
              "      <td>3</td>\n",
              "      <td>Y</td>\n",
              "      <td>57.739796</td>\n",
              "      <td>0.187202</td>\n",
              "      <td>51.071429</td>\n",
              "    </tr>\n",
              "    <tr>\n",
              "      <th>9</th>\n",
              "      <td>4</td>\n",
              "      <td>Y</td>\n",
              "      <td>66.082153</td>\n",
              "      <td>0.337154</td>\n",
              "      <td>60.923513</td>\n",
              "    </tr>\n",
              "  </tbody>\n",
              "</table>\n",
              "</div>"
            ],
            "text/plain": [
              "  star_rating vine  avg_total_votes     count  avg_helpful_votes\n",
              "3           1    Y        33.518519  0.051576          27.111111\n",
              "4           2    Y        46.666667  0.065903          38.971014\n",
              "6           5    Y        74.808000  0.358166          68.970667\n",
              "7           3    Y        57.739796  0.187202          51.071429\n",
              "9           4    Y        66.082153  0.337154          60.923513"
            ]
          },
          "metadata": {
            "tags": []
          },
          "execution_count": 14
        }
      ]
    },
    {
      "cell_type": "code",
      "metadata": {
        "id": "R-uayNALyMpp",
        "colab_type": "code",
        "outputId": "f0d67e73-e765-44d4-f229-2e4e85aac65e",
        "colab": {
          "base_uri": "https://localhost:8080/",
          "height": 306
        }
      },
      "source": [
        "# non_vine rating normalize.\n",
        "non_vine = pdf.loc[pdf['vine'] == 'N']\n",
        "t = non_vine.copy(deep=True)\n",
        "non_vine['count'] = t['count'] / t['count'].sum()\n",
        "non_vine"
      ],
      "execution_count": 15,
      "outputs": [
        {
          "output_type": "stream",
          "text": [
            "/usr/local/lib/python3.6/dist-packages/ipykernel_launcher.py:3: SettingWithCopyWarning: \n",
            "A value is trying to be set on a copy of a slice from a DataFrame.\n",
            "Try using .loc[row_indexer,col_indexer] = value instead\n",
            "\n",
            "See the caveats in the documentation: https://pandas.pydata.org/pandas-docs/stable/user_guide/indexing.html#returning-a-view-versus-a-copy\n",
            "  This is separate from the ipykernel package so we can avoid doing imports until\n"
          ],
          "name": "stderr"
        },
        {
          "output_type": "execute_result",
          "data": {
            "text/html": [
              "<div>\n",
              "<style scoped>\n",
              "    .dataframe tbody tr th:only-of-type {\n",
              "        vertical-align: middle;\n",
              "    }\n",
              "\n",
              "    .dataframe tbody tr th {\n",
              "        vertical-align: top;\n",
              "    }\n",
              "\n",
              "    .dataframe thead th {\n",
              "        text-align: right;\n",
              "    }\n",
              "</style>\n",
              "<table border=\"1\" class=\"dataframe\">\n",
              "  <thead>\n",
              "    <tr style=\"text-align: right;\">\n",
              "      <th></th>\n",
              "      <th>star_rating</th>\n",
              "      <th>vine</th>\n",
              "      <th>avg_total_votes</th>\n",
              "      <th>count</th>\n",
              "      <th>avg_helpful_votes</th>\n",
              "    </tr>\n",
              "  </thead>\n",
              "  <tbody>\n",
              "    <tr>\n",
              "      <th>0</th>\n",
              "      <td>5</td>\n",
              "      <td>N</td>\n",
              "      <td>39.104596</td>\n",
              "      <td>0.437911</td>\n",
              "      <td>35.434978</td>\n",
              "    </tr>\n",
              "    <tr>\n",
              "      <th>1</th>\n",
              "      <td>2</td>\n",
              "      <td>N</td>\n",
              "      <td>31.063428</td>\n",
              "      <td>0.073198</td>\n",
              "      <td>24.568267</td>\n",
              "    </tr>\n",
              "    <tr>\n",
              "      <th>2</th>\n",
              "      <td>3</td>\n",
              "      <td>N</td>\n",
              "      <td>38.915107</td>\n",
              "      <td>0.087323</td>\n",
              "      <td>33.308570</td>\n",
              "    </tr>\n",
              "    <tr>\n",
              "      <th>5</th>\n",
              "      <td>4</td>\n",
              "      <td>N</td>\n",
              "      <td>40.086880</td>\n",
              "      <td>0.151438</td>\n",
              "      <td>36.511601</td>\n",
              "    </tr>\n",
              "    <tr>\n",
              "      <th>8</th>\n",
              "      <td>1</td>\n",
              "      <td>N</td>\n",
              "      <td>33.828403</td>\n",
              "      <td>0.250130</td>\n",
              "      <td>25.651872</td>\n",
              "    </tr>\n",
              "  </tbody>\n",
              "</table>\n",
              "</div>"
            ],
            "text/plain": [
              "  star_rating vine  avg_total_votes     count  avg_helpful_votes\n",
              "0           5    N        39.104596  0.437911          35.434978\n",
              "1           2    N        31.063428  0.073198          24.568267\n",
              "2           3    N        38.915107  0.087323          33.308570\n",
              "5           4    N        40.086880  0.151438          36.511601\n",
              "8           1    N        33.828403  0.250130          25.651872"
            ]
          },
          "metadata": {
            "tags": []
          },
          "execution_count": 15
        }
      ]
    },
    {
      "cell_type": "code",
      "metadata": {
        "id": "7pELDTdX_4Os",
        "colab_type": "code",
        "colab": {
          "base_uri": "https://localhost:8080/",
          "height": 51
        },
        "outputId": "39f2072f-a94c-437b-c4ac-b4070578fe1e"
      },
      "source": [
        "final_pdf.dtypes"
      ],
      "execution_count": 17,
      "outputs": [
        {
          "output_type": "execute_result",
          "data": {
            "text/plain": [
              "star_rating    int64\n",
              "dtype: object"
            ]
          },
          "metadata": {
            "tags": []
          },
          "execution_count": 17
        }
      ]
    },
    {
      "cell_type": "code",
      "metadata": {
        "id": "ToMixBRT__iR",
        "colab_type": "code",
        "colab": {
          "base_uri": "https://localhost:8080/",
          "height": 119
        },
        "outputId": "6ab7bebb-47d6-48c4-a0d6-e58ba20480f6"
      },
      "source": [
        "vine.dtypes"
      ],
      "execution_count": 27,
      "outputs": [
        {
          "output_type": "execute_result",
          "data": {
            "text/plain": [
              "star_rating            int64\n",
              "vine                  object\n",
              "avg_total_votes      float64\n",
              "count                float64\n",
              "avg_helpful_votes    float64\n",
              "dtype: object"
            ]
          },
          "metadata": {
            "tags": []
          },
          "execution_count": 27
        }
      ]
    },
    {
      "cell_type": "code",
      "metadata": {
        "id": "VhB3utvfAI64",
        "colab_type": "code",
        "colab": {}
      },
      "source": [
        "vine = vine.astype({\"star_rating\": int})\n",
        "non_vine = non_vine.astype({\"star_rating\": int})"
      ],
      "execution_count": 0,
      "outputs": []
    },
    {
      "cell_type": "code",
      "metadata": {
        "id": "uSNSFz9Iu7b4",
        "colab_type": "code",
        "colab": {
          "base_uri": "https://localhost:8080/",
          "height": 204
        },
        "outputId": "f85efaa8-ebed-475d-a6e4-2e2e7c7869ba"
      },
      "source": [
        "# final pandas dataframe\n",
        "data = {'star_rating':[1, 2, 3, 4, 5]}\n",
        "final_pdf = pd.DataFrame(data)\n",
        "final_pdf = pd.merge(final_pdf, vine, on='star_rating', how='left')\n",
        "final_pdf = pd.merge(final_pdf, non_vine, on='star_rating', how='left')\n",
        "final_pdf = final_pdf.fillna(0)\n",
        "col_renames = {'count_x': 'vine_count',\n",
        "               'count_y': 'non_vine_count',\n",
        "               'avg_helpful_votes_x': 'vine_avg_helpful_votes',\n",
        "               'avg_helpful_votes_y': 'non_vine_avg_helpful_votes',\n",
        "               'avg_total_votes_x': 'vine_avg_total_votes',\n",
        "               'avg_total_votes_y': 'non_vine_avg_total_votes' \n",
        "               }\n",
        "final_pdf = final_pdf.rename(columns=col_renames)\n",
        "final_pdf = final_pdf[['star_rating',\n",
        "                      'vine_count', 'vine_avg_helpful_votes', 'vine_avg_total_votes',\n",
        "                      'non_vine_count', 'non_vine_avg_helpful_votes', 'non_vine_avg_total_votes']]\n",
        "final_pdf"
      ],
      "execution_count": 29,
      "outputs": [
        {
          "output_type": "execute_result",
          "data": {
            "text/html": [
              "<div>\n",
              "<style scoped>\n",
              "    .dataframe tbody tr th:only-of-type {\n",
              "        vertical-align: middle;\n",
              "    }\n",
              "\n",
              "    .dataframe tbody tr th {\n",
              "        vertical-align: top;\n",
              "    }\n",
              "\n",
              "    .dataframe thead th {\n",
              "        text-align: right;\n",
              "    }\n",
              "</style>\n",
              "<table border=\"1\" class=\"dataframe\">\n",
              "  <thead>\n",
              "    <tr style=\"text-align: right;\">\n",
              "      <th></th>\n",
              "      <th>star_rating</th>\n",
              "      <th>vine_count</th>\n",
              "      <th>vine_avg_helpful_votes</th>\n",
              "      <th>vine_avg_total_votes</th>\n",
              "      <th>non_vine_count</th>\n",
              "      <th>non_vine_avg_helpful_votes</th>\n",
              "      <th>non_vine_avg_total_votes</th>\n",
              "    </tr>\n",
              "  </thead>\n",
              "  <tbody>\n",
              "    <tr>\n",
              "      <th>0</th>\n",
              "      <td>1</td>\n",
              "      <td>0.051576</td>\n",
              "      <td>27.111111</td>\n",
              "      <td>33.518519</td>\n",
              "      <td>0.250130</td>\n",
              "      <td>25.651872</td>\n",
              "      <td>33.828403</td>\n",
              "    </tr>\n",
              "    <tr>\n",
              "      <th>1</th>\n",
              "      <td>2</td>\n",
              "      <td>0.065903</td>\n",
              "      <td>38.971014</td>\n",
              "      <td>46.666667</td>\n",
              "      <td>0.073198</td>\n",
              "      <td>24.568267</td>\n",
              "      <td>31.063428</td>\n",
              "    </tr>\n",
              "    <tr>\n",
              "      <th>2</th>\n",
              "      <td>3</td>\n",
              "      <td>0.187202</td>\n",
              "      <td>51.071429</td>\n",
              "      <td>57.739796</td>\n",
              "      <td>0.087323</td>\n",
              "      <td>33.308570</td>\n",
              "      <td>38.915107</td>\n",
              "    </tr>\n",
              "    <tr>\n",
              "      <th>3</th>\n",
              "      <td>4</td>\n",
              "      <td>0.337154</td>\n",
              "      <td>60.923513</td>\n",
              "      <td>66.082153</td>\n",
              "      <td>0.151438</td>\n",
              "      <td>36.511601</td>\n",
              "      <td>40.086880</td>\n",
              "    </tr>\n",
              "    <tr>\n",
              "      <th>4</th>\n",
              "      <td>5</td>\n",
              "      <td>0.358166</td>\n",
              "      <td>68.970667</td>\n",
              "      <td>74.808000</td>\n",
              "      <td>0.437911</td>\n",
              "      <td>35.434978</td>\n",
              "      <td>39.104596</td>\n",
              "    </tr>\n",
              "  </tbody>\n",
              "</table>\n",
              "</div>"
            ],
            "text/plain": [
              "   star_rating  ...  non_vine_avg_total_votes\n",
              "0            1  ...                 33.828403\n",
              "1            2  ...                 31.063428\n",
              "2            3  ...                 38.915107\n",
              "3            4  ...                 40.086880\n",
              "4            5  ...                 39.104596\n",
              "\n",
              "[5 rows x 7 columns]"
            ]
          },
          "metadata": {
            "tags": []
          },
          "execution_count": 29
        }
      ]
    },
    {
      "cell_type": "markdown",
      "metadata": {
        "id": "_ewGozil5tqo",
        "colab_type": "text"
      },
      "source": [
        "## Analysis\n",
        "### pandas df plot"
      ]
    },
    {
      "cell_type": "code",
      "metadata": {
        "id": "Cqxa9GNhyMvr",
        "colab_type": "code",
        "outputId": "82273b8a-5237-455b-80a6-ed30000ac91e",
        "colab": {
          "base_uri": "https://localhost:8080/",
          "height": 294
        }
      },
      "source": [
        "# vine / non_vine normalized \"star_rating\" distribution\n",
        "final_pdf.plot(x=\"star_rating\", y=[\"vine_count\", \"non_vine_count\"], kind=\"bar\")"
      ],
      "execution_count": 30,
      "outputs": [
        {
          "output_type": "execute_result",
          "data": {
            "text/plain": [
              "<matplotlib.axes._subplots.AxesSubplot at 0x7fc80f1b37f0>"
            ]
          },
          "metadata": {
            "tags": []
          },
          "execution_count": 30
        },
        {
          "output_type": "display_data",
          "data": {
            "image/png": "[encoded data removed]",
            "text/plain": [
              "<Figure size 432x288 with 1 Axes>"
            ]
          },
          "metadata": {
            "tags": [],
            "needs_background": "light"
          }
        }
      ]
    },
    {
      "cell_type": "code",
      "metadata": {
        "id": "Uvk7I5s5woj3",
        "colab_type": "code",
        "colab": {
          "base_uri": "https://localhost:8080/",
          "height": 294
        },
        "outputId": "76c8ddbb-fecd-4ddf-f9dd-34daae7b831f"
      },
      "source": [
        "final_pdf.plot(x=\"star_rating\", y=[\"vine_avg_helpful_votes\", \"non_vine_avg_helpful_votes\"], kind=\"bar\")"
      ],
      "execution_count": 31,
      "outputs": [
        {
          "output_type": "execute_result",
          "data": {
            "text/plain": [
              "<matplotlib.axes._subplots.AxesSubplot at 0x7fc80f1bac50>"
            ]
          },
          "metadata": {
            "tags": []
          },
          "execution_count": 31
        },
        {
          "output_type": "display_data",
          "data": {
            "image/png": "[encoded data removed]",
            "text/plain": [
              "<Figure size 432x288 with 1 Axes>"
            ]
          },
          "metadata": {
            "tags": [],
            "needs_background": "light"
          }
        }
      ]
    },
    {
      "cell_type": "code",
      "metadata": {
        "id": "4t7Fnom0xTZ3",
        "colab_type": "code",
        "colab": {
          "base_uri": "https://localhost:8080/",
          "height": 294
        },
        "outputId": "c70a0976-cdbe-4bca-de95-7c734be2c710"
      },
      "source": [
        "final_pdf.plot(x=\"star_rating\", y=[\"vine_avg_total_votes\", \"non_vine_avg_total_votes\"], kind=\"bar\")"
      ],
      "execution_count": 32,
      "outputs": [
        {
          "output_type": "execute_result",
          "data": {
            "text/plain": [
              "<matplotlib.axes._subplots.AxesSubplot at 0x7fc80ebd6080>"
            ]
          },
          "metadata": {
            "tags": []
          },
          "execution_count": 32
        },
        {
          "output_type": "display_data",
          "data": {
            "image/png": "[encoded data removed]",
            "text/plain": [
              "<Figure size 432x288 with 1 Axes>"
            ]
          },
          "metadata": {
            "tags": [],
            "needs_background": "light"
          }
        }
      ]
    },
    {
      "cell_type": "code",
      "metadata": {
        "id": "sWdonVhHG-vP",
        "colab_type": "code",
        "colab": {}
      },
      "source": [
        ""
      ],
      "execution_count": 0,
      "outputs": []
    }
  ]
}