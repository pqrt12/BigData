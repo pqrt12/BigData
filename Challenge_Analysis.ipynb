{
  "nbformat": 4,
  "nbformat_minor": 0,
  "metadata": {
    "colab": {
      "name": "Challenge_Analysis.ipynb",
      "provenance": [],
      "collapsed_sections": [],
      "authorship_tag": "ABX9TyNUpC1ZkK6NOYpV12XV1OYi",
      "include_colab_link": true
    },
    "kernelspec": {
      "name": "python3",
      "display_name": "Python 3"
    }
  },
  "cells": [
    {
      "cell_type": "markdown",
      "metadata": {
        "id": "view-in-github",
        "colab_type": "text"
      },
      "source": [
        "<a href=\"https://colab.research.google.com/github/pqrt12/BigData/blob/master/Challenge_Analysis.ipynb\" target=\"_parent\"><img src=\"https://colab.research.google.com/assets/colab-badge.svg\" alt=\"Open In Colab\"/></a>"
      ]
    },
    {
      "cell_type": "markdown",
      "metadata": {
        "id": "v-NBBVw4C1fc",
        "colab_type": "text"
      },
      "source": [
        "## Install Java, Spark, Findspark, postgres, etc."
      ]
    },
    {
      "cell_type": "code",
      "metadata": {
        "id": "yftJLdyfjtrm",
        "colab_type": "code",
        "colab": {}
      },
      "source": [
        "# Install Java, Spark, and Findspark\n",
        "!apt-get install openjdk-8-jdk-headless -qq > /dev/null\n",
        "!wget -q http://www-us.apache.org/dist/spark/spark-2.4.5/spark-2.4.5-bin-hadoop2.7.tgz\n",
        "!tar xf spark-2.4.5-bin-hadoop2.7.tgz\n",
        "!pip install -q findspark\n",
        "\n",
        "# Set Environment Variables\n",
        "import os\n",
        "os.environ[\"JAVA_HOME\"] = \"/usr/lib/jvm/java-8-openjdk-amd64\"\n",
        "os.environ[\"SPARK_HOME\"] = \"/content/spark-2.4.5-bin-hadoop2.7\"\n",
        "\n",
        "# Start a SparkSession\n",
        "import findspark\n",
        "findspark.init()"
      ],
      "execution_count": 0,
      "outputs": []
    },
    {
      "cell_type": "code",
      "metadata": {
        "id": "tJq8LQ11luV4",
        "colab_type": "code",
        "colab": {}
      },
      "source": [
        "from pyspark.sql import SparkSession\n",
        "spark = SparkSession.builder.appName(\"ChallengeAnalysis\").config(\"spark.driver.extraClassPath\",\"/content/postgresql-42.2.9.jar\").getOrCreate()"
      ],
      "execution_count": 0,
      "outputs": []
    },
    {
      "cell_type": "markdown",
      "metadata": {
        "id": "DVglnB2yDLxq",
        "colab_type": "text"
      },
      "source": [
        "## Extract\n",
        "\n"
      ]
    },
    {
      "cell_type": "code",
      "metadata": {
        "id": "jvNcyJdKrby6",
        "colab_type": "code",
        "colab": {}
      },
      "source": [
        "# Read in data from S3 Buckets\n",
        "from pyspark import SparkFiles\n",
        "aws_s3_base_url = \"https://s3.amazonaws.com/amazon-reviews-pds/tsv/\"\n",
        "# filename = \"sample_us.tsv\"\n",
        "filename = \"amazon_reviews_us_Wireless_v1_00.tsv.gz\"\n",
        "spark.sparkContext.addFile(aws_s3_base_url + filename)\n",
        "raw_data_df = spark.read.csv(SparkFiles.get(filename), sep=\"\\t\", header=True, inferSchema=True)"
      ],
      "execution_count": 0,
      "outputs": []
    },
    {
      "cell_type": "code",
      "metadata": {
        "id": "pFxKMTNeezod",
        "colab_type": "code",
        "outputId": "1f00f3c8-7601-458e-fc90-87457acd5ed4",
        "colab": {
          "base_uri": "https://localhost:8080/",
          "height": 34
        }
      },
      "source": [
        "# count the total records\n",
        "raw_data_df.count()"
      ],
      "execution_count": 0,
      "outputs": [
        {
          "output_type": "execute_result",
          "data": {
            "text/plain": [
              "9002021"
            ]
          },
          "metadata": {
            "tags": []
          },
          "execution_count": 4
        }
      ]
    },
    {
      "cell_type": "code",
      "metadata": {
        "id": "5-qG3bEeevLI",
        "colab_type": "code",
        "outputId": "bcb9b74c-b2cf-4c7e-a391-5b0b2001e74b",
        "colab": {
          "base_uri": "https://localhost:8080/",
          "height": 190
        }
      },
      "source": [
        "# Show DataFrame\n",
        "raw_data_df.show(3)"
      ],
      "execution_count": 0,
      "outputs": [
        {
          "output_type": "stream",
          "text": [
            "+-----------+-----------+--------------+----------+--------------+--------------------+----------------+-----------+-------------+-----------+----+-----------------+--------------------+--------------------+-------------------+\n",
            "|marketplace|customer_id|     review_id|product_id|product_parent|       product_title|product_category|star_rating|helpful_votes|total_votes|vine|verified_purchase|     review_headline|         review_body|        review_date|\n",
            "+-----------+-----------+--------------+----------+--------------+--------------------+----------------+-----------+-------------+-----------+----+-----------------+--------------------+--------------------+-------------------+\n",
            "|         US|   16414143|R3W4P9UBGNGH1U|B00YL0EKWE|     852431543|LG G4 Case Hard T...|        Wireless|          2|            1|          3|   N|                Y|Looks good, funct...|2 issues  -  Once...|2015-08-31 00:00:00|\n",
            "|         US|   50800750|R15V54KBMTQWAY|B00XK95RPQ|     516894650|Selfie Stick Fibl...|        Wireless|          4|            0|          0|   N|                N| A fun little gadget|I’m embarrassed t...|2015-08-31 00:00:00|\n",
            "|         US|   15184378| RY8I449HNXSVF|B00SXRXUKO|     984297154|Tribe AB40 Water ...|        Wireless|          5|            0|          0|   N|                Y|          Five Stars|  Fits iPhone 6 well|2015-08-31 00:00:00|\n",
            "+-----------+-----------+--------------+----------+--------------+--------------------+----------------+-----------+-------------+-----------+----+-----------------+--------------------+--------------------+-------------------+\n",
            "only showing top 3 rows\n",
            "\n"
          ],
          "name": "stdout"
        }
      ]
    },
    {
      "cell_type": "markdown",
      "metadata": {
        "id": "vVCip3Yfu03D",
        "colab_type": "text"
      },
      "source": [
        "## Transform\n",
        "### filtering"
      ]
    },
    {
      "cell_type": "code",
      "metadata": {
        "id": "mohVtQT98sOY",
        "colab_type": "code",
        "outputId": "25ec54ce-0c76-460a-cf16-d52ee613aa76",
        "colab": {
          "base_uri": "https://localhost:8080/",
          "height": 170
        }
      },
      "source": [
        "# transform, filtering:\n",
        "#   dropna, keep essentail columns only\n",
        "clean_data_df = raw_data_df.dropna().select(['star_rating', 'helpful_votes', 'total_votes', 'vine'])\n",
        "clean_data_df.show(3)"
      ],
      "execution_count": 0,
      "outputs": [
        {
          "output_type": "stream",
          "text": [
            "+-----------+-------------+-----------+----+\n",
            "|star_rating|helpful_votes|total_votes|vine|\n",
            "+-----------+-------------+-----------+----+\n",
            "|          2|            1|          3|   N|\n",
            "|          4|            0|          0|   N|\n",
            "|          5|            0|          0|   N|\n",
            "+-----------+-------------+-----------+----+\n",
            "only showing top 3 rows\n",
            "\n"
          ],
          "name": "stdout"
        }
      ]
    },
    {
      "cell_type": "code",
      "metadata": {
        "id": "jpWqlYllNMXG",
        "colab_type": "code",
        "colab": {}
      },
      "source": [
        "# keep influential opinions only\n",
        "select_df = clean_data_df.filter((clean_data_df['total_votes'] > 10) & (clean_data_df['helpful_votes'] > 3))\n",
        "# select_df = clean_data_df"
      ],
      "execution_count": 0,
      "outputs": []
    },
    {
      "cell_type": "code",
      "metadata": {
        "id": "um0bUdypNMd6",
        "colab_type": "code",
        "outputId": "f236b678-e04d-4f76-9efa-dbcf2f861f64",
        "colab": {
          "base_uri": "https://localhost:8080/",
          "height": 34
        }
      },
      "source": [
        "select_df.count()"
      ],
      "execution_count": 0,
      "outputs": [
        {
          "output_type": "execute_result",
          "data": {
            "text/plain": [
              "143633"
            ]
          },
          "metadata": {
            "tags": []
          },
          "execution_count": 10
        }
      ]
    },
    {
      "cell_type": "markdown",
      "metadata": {
        "id": "meHdxcrJ4BJK",
        "colab_type": "text"
      },
      "source": [
        "### transform to numpy, scipy, pandas\n",
        "  vine_arr, non_vine_arr and pdf\n",
        "\n",
        "*   vine_arr: np array of \"star_rating\" by vine.\n",
        "*   non_vine_arr: np array of \"star_rating\" by non_vine.\n",
        "*   pdf: pandas df of \"star_rating\", \"vine\" and count\n"
      ]
    },
    {
      "cell_type": "code",
      "metadata": {
        "id": "_Qr1Jont4LMv",
        "colab_type": "code",
        "colab": {}
      },
      "source": [
        "# import the math module  \n",
        "import numpy as np\n",
        "from scipy import stats\n",
        "import pandas as pd"
      ],
      "execution_count": 0,
      "outputs": []
    },
    {
      "cell_type": "code",
      "metadata": {
        "id": "fDzQnvQr4QGm",
        "colab_type": "code",
        "colab": {}
      },
      "source": [
        "# get vine's numpy arr of \"star_rating\" \n",
        "a = select_df.filter(select_df.vine == 'Y')       \\\n",
        "            .select('star_rating')                \\\n",
        "            .rdd.flatMap(lambda x: x)             \\\n",
        "            .collect()\n",
        "vine_arr = np.array(a).astype(float)"
      ],
      "execution_count": 0,
      "outputs": []
    },
    {
      "cell_type": "code",
      "metadata": {
        "id": "gUtF3aGo4WsB",
        "colab_type": "code",
        "colab": {}
      },
      "source": [
        "# get non_vine's numpy arr of \"star_rating\" \n",
        "a = select_df.filter(select_df.vine == 'N')       \\\n",
        "            .select('star_rating')                \\\n",
        "            .rdd.flatMap(lambda x: x)             \\\n",
        "            .collect()\n",
        "non_vine_arr = np.array(a).astype(float)"
      ],
      "execution_count": 0,
      "outputs": []
    },
    {
      "cell_type": "code",
      "metadata": {
        "id": "C4thdtzZqojM",
        "colab_type": "code",
        "outputId": "bbb8b462-6a10-49f9-a8f3-54ecfc5e9c30",
        "colab": {
          "base_uri": "https://localhost:8080/",
          "height": 272
        }
      },
      "source": [
        "select_df = select_df.groupBy('star_rating', 'vine').count()\n",
        "select_df.show()"
      ],
      "execution_count": 0,
      "outputs": [
        {
          "output_type": "stream",
          "text": [
            "+-----------+----+-----+\n",
            "|star_rating|vine|count|\n",
            "+-----------+----+-----+\n",
            "|          5|   N|62440|\n",
            "|          2|   N|10437|\n",
            "|          3|   N|12451|\n",
            "|          1|   Y|   54|\n",
            "|          2|   Y|   69|\n",
            "|          4|   N|21593|\n",
            "|          5|   Y|  375|\n",
            "|          3|   Y|  196|\n",
            "|          1|   N|35665|\n",
            "|          4|   Y|  353|\n",
            "+-----------+----+-----+\n",
            "\n"
          ],
          "name": "stdout"
        }
      ]
    },
    {
      "cell_type": "code",
      "metadata": {
        "id": "z1Kj8hlhry9M",
        "colab_type": "code",
        "colab": {}
      },
      "source": [
        "# to pandas dataframe\n",
        "pdf = select_df.toPandas()"
      ],
      "execution_count": 0,
      "outputs": []
    },
    {
      "cell_type": "markdown",
      "metadata": {
        "id": "_ewGozil5tqo",
        "colab_type": "text"
      },
      "source": [
        "## Analysis"
      ]
    },
    {
      "cell_type": "markdown",
      "metadata": {
        "id": "Bt6PI2VUFYt7",
        "colab_type": "text"
      },
      "source": [
        "### pandas df plot"
      ]
    },
    {
      "cell_type": "code",
      "metadata": {
        "id": "mO-G5_v8r_B5",
        "colab_type": "code",
        "outputId": "19740bb1-b64e-427a-ea2d-5e1fd7780813",
        "colab": {
          "base_uri": "https://localhost:8080/",
          "height": 204
        }
      },
      "source": [
        "pdf = pdf.astype({\"star_rating\": int})\n",
        "pdf.head()"
      ],
      "execution_count": 0,
      "outputs": [
        {
          "output_type": "execute_result",
          "data": {
            "text/html": [
              "<div>\n",
              "<style scoped>\n",
              "    .dataframe tbody tr th:only-of-type {\n",
              "        vertical-align: middle;\n",
              "    }\n",
              "\n",
              "    .dataframe tbody tr th {\n",
              "        vertical-align: top;\n",
              "    }\n",
              "\n",
              "    .dataframe thead th {\n",
              "        text-align: right;\n",
              "    }\n",
              "</style>\n",
              "<table border=\"1\" class=\"dataframe\">\n",
              "  <thead>\n",
              "    <tr style=\"text-align: right;\">\n",
              "      <th></th>\n",
              "      <th>star_rating</th>\n",
              "      <th>vine</th>\n",
              "      <th>count</th>\n",
              "    </tr>\n",
              "  </thead>\n",
              "  <tbody>\n",
              "    <tr>\n",
              "      <th>0</th>\n",
              "      <td>5</td>\n",
              "      <td>N</td>\n",
              "      <td>62440</td>\n",
              "    </tr>\n",
              "    <tr>\n",
              "      <th>1</th>\n",
              "      <td>2</td>\n",
              "      <td>N</td>\n",
              "      <td>10437</td>\n",
              "    </tr>\n",
              "    <tr>\n",
              "      <th>2</th>\n",
              "      <td>3</td>\n",
              "      <td>N</td>\n",
              "      <td>12451</td>\n",
              "    </tr>\n",
              "    <tr>\n",
              "      <th>3</th>\n",
              "      <td>1</td>\n",
              "      <td>Y</td>\n",
              "      <td>54</td>\n",
              "    </tr>\n",
              "    <tr>\n",
              "      <th>4</th>\n",
              "      <td>2</td>\n",
              "      <td>Y</td>\n",
              "      <td>69</td>\n",
              "    </tr>\n",
              "  </tbody>\n",
              "</table>\n",
              "</div>"
            ],
            "text/plain": [
              "   star_rating vine  count\n",
              "0            5    N  62440\n",
              "1            2    N  10437\n",
              "2            3    N  12451\n",
              "3            1    Y     54\n",
              "4            2    Y     69"
            ]
          },
          "metadata": {
            "tags": []
          },
          "execution_count": 26
        }
      ]
    },
    {
      "cell_type": "code",
      "metadata": {
        "id": "S2JO28ciyMcV",
        "colab_type": "code",
        "outputId": "1d988ea9-787c-4736-c924-923c33396c8d",
        "colab": {
          "base_uri": "https://localhost:8080/",
          "height": 306
        }
      },
      "source": [
        "# vine normalize.\n",
        "vine = pdf.loc[pdf['vine'] == 'Y']\n",
        "t = vine.copy(deep=True)\n",
        "vine['count'] = t['count'] / t['count'].sum()\n",
        "vine"
      ],
      "execution_count": 0,
      "outputs": [
        {
          "output_type": "stream",
          "text": [
            "/usr/local/lib/python3.6/dist-packages/ipykernel_launcher.py:3: SettingWithCopyWarning: \n",
            "A value is trying to be set on a copy of a slice from a DataFrame.\n",
            "Try using .loc[row_indexer,col_indexer] = value instead\n",
            "\n",
            "See the caveats in the documentation: https://pandas.pydata.org/pandas-docs/stable/user_guide/indexing.html#returning-a-view-versus-a-copy\n",
            "  This is separate from the ipykernel package so we can avoid doing imports until\n"
          ],
          "name": "stderr"
        },
        {
          "output_type": "execute_result",
          "data": {
            "text/html": [
              "<div>\n",
              "<style scoped>\n",
              "    .dataframe tbody tr th:only-of-type {\n",
              "        vertical-align: middle;\n",
              "    }\n",
              "\n",
              "    .dataframe tbody tr th {\n",
              "        vertical-align: top;\n",
              "    }\n",
              "\n",
              "    .dataframe thead th {\n",
              "        text-align: right;\n",
              "    }\n",
              "</style>\n",
              "<table border=\"1\" class=\"dataframe\">\n",
              "  <thead>\n",
              "    <tr style=\"text-align: right;\">\n",
              "      <th></th>\n",
              "      <th>star_rating</th>\n",
              "      <th>vine</th>\n",
              "      <th>count</th>\n",
              "    </tr>\n",
              "  </thead>\n",
              "  <tbody>\n",
              "    <tr>\n",
              "      <th>3</th>\n",
              "      <td>1</td>\n",
              "      <td>Y</td>\n",
              "      <td>0.051576</td>\n",
              "    </tr>\n",
              "    <tr>\n",
              "      <th>4</th>\n",
              "      <td>2</td>\n",
              "      <td>Y</td>\n",
              "      <td>0.065903</td>\n",
              "    </tr>\n",
              "    <tr>\n",
              "      <th>6</th>\n",
              "      <td>5</td>\n",
              "      <td>Y</td>\n",
              "      <td>0.358166</td>\n",
              "    </tr>\n",
              "    <tr>\n",
              "      <th>7</th>\n",
              "      <td>3</td>\n",
              "      <td>Y</td>\n",
              "      <td>0.187202</td>\n",
              "    </tr>\n",
              "    <tr>\n",
              "      <th>9</th>\n",
              "      <td>4</td>\n",
              "      <td>Y</td>\n",
              "      <td>0.337154</td>\n",
              "    </tr>\n",
              "  </tbody>\n",
              "</table>\n",
              "</div>"
            ],
            "text/plain": [
              "   star_rating vine     count\n",
              "3            1    Y  0.051576\n",
              "4            2    Y  0.065903\n",
              "6            5    Y  0.358166\n",
              "7            3    Y  0.187202\n",
              "9            4    Y  0.337154"
            ]
          },
          "metadata": {
            "tags": []
          },
          "execution_count": 29
        }
      ]
    },
    {
      "cell_type": "code",
      "metadata": {
        "id": "R-uayNALyMpp",
        "colab_type": "code",
        "outputId": "c807e75a-d255-4987-eb15-ce8c4074ea9f",
        "colab": {
          "base_uri": "https://localhost:8080/",
          "height": 306
        }
      },
      "source": [
        "# non_vine normalize.\n",
        "non_vine = pdf.loc[pdf['vine'] == 'N']\n",
        "t = non_vine.copy(deep=True)\n",
        "non_vine['count'] = t['count'] / t['count'].sum()\n",
        "non_vine"
      ],
      "execution_count": 0,
      "outputs": [
        {
          "output_type": "stream",
          "text": [
            "/usr/local/lib/python3.6/dist-packages/ipykernel_launcher.py:3: SettingWithCopyWarning: \n",
            "A value is trying to be set on a copy of a slice from a DataFrame.\n",
            "Try using .loc[row_indexer,col_indexer] = value instead\n",
            "\n",
            "See the caveats in the documentation: https://pandas.pydata.org/pandas-docs/stable/user_guide/indexing.html#returning-a-view-versus-a-copy\n",
            "  This is separate from the ipykernel package so we can avoid doing imports until\n"
          ],
          "name": "stderr"
        },
        {
          "output_type": "execute_result",
          "data": {
            "text/html": [
              "<div>\n",
              "<style scoped>\n",
              "    .dataframe tbody tr th:only-of-type {\n",
              "        vertical-align: middle;\n",
              "    }\n",
              "\n",
              "    .dataframe tbody tr th {\n",
              "        vertical-align: top;\n",
              "    }\n",
              "\n",
              "    .dataframe thead th {\n",
              "        text-align: right;\n",
              "    }\n",
              "</style>\n",
              "<table border=\"1\" class=\"dataframe\">\n",
              "  <thead>\n",
              "    <tr style=\"text-align: right;\">\n",
              "      <th></th>\n",
              "      <th>star_rating</th>\n",
              "      <th>vine</th>\n",
              "      <th>count</th>\n",
              "    </tr>\n",
              "  </thead>\n",
              "  <tbody>\n",
              "    <tr>\n",
              "      <th>0</th>\n",
              "      <td>5</td>\n",
              "      <td>N</td>\n",
              "      <td>0.437911</td>\n",
              "    </tr>\n",
              "    <tr>\n",
              "      <th>1</th>\n",
              "      <td>2</td>\n",
              "      <td>N</td>\n",
              "      <td>0.073198</td>\n",
              "    </tr>\n",
              "    <tr>\n",
              "      <th>2</th>\n",
              "      <td>3</td>\n",
              "      <td>N</td>\n",
              "      <td>0.087323</td>\n",
              "    </tr>\n",
              "    <tr>\n",
              "      <th>5</th>\n",
              "      <td>4</td>\n",
              "      <td>N</td>\n",
              "      <td>0.151438</td>\n",
              "    </tr>\n",
              "    <tr>\n",
              "      <th>8</th>\n",
              "      <td>1</td>\n",
              "      <td>N</td>\n",
              "      <td>0.250130</td>\n",
              "    </tr>\n",
              "  </tbody>\n",
              "</table>\n",
              "</div>"
            ],
            "text/plain": [
              "   star_rating vine     count\n",
              "0            5    N  0.437911\n",
              "1            2    N  0.073198\n",
              "2            3    N  0.087323\n",
              "5            4    N  0.151438\n",
              "8            1    N  0.250130"
            ]
          },
          "metadata": {
            "tags": []
          },
          "execution_count": 30
        }
      ]
    },
    {
      "cell_type": "code",
      "metadata": {
        "id": "p7HCPIGTH6HS",
        "colab_type": "code",
        "outputId": "01c0f4ee-b695-4884-9a53-12f8cf8f2575",
        "colab": {
          "base_uri": "https://localhost:8080/",
          "height": 204
        }
      },
      "source": [
        "# final pandas dataframe\n",
        "data = {'star_rating':[1, 2, 3, 4, 5]}\n",
        "final_pdf = pd.DataFrame(data)\n",
        "final_pdf = pd.merge(final_pdf, vine, on='star_rating', how='left')  #, sort=True)\n",
        "final_pdf = pd.merge(final_pdf, non_vine, on='star_rating', how='left')  #, sort=True)\n",
        "final_pdf = final_pdf.fillna(0)\n",
        "final_pdf = final_pdf.rename(columns={'count_x': 'vine_count', 'count_y': 'non_vine_count'})\n",
        "final_pdf[['star_rating', 'vine_count', 'non_vine_count']]"
      ],
      "execution_count": 0,
      "outputs": [
        {
          "output_type": "execute_result",
          "data": {
            "text/html": [
              "<div>\n",
              "<style scoped>\n",
              "    .dataframe tbody tr th:only-of-type {\n",
              "        vertical-align: middle;\n",
              "    }\n",
              "\n",
              "    .dataframe tbody tr th {\n",
              "        vertical-align: top;\n",
              "    }\n",
              "\n",
              "    .dataframe thead th {\n",
              "        text-align: right;\n",
              "    }\n",
              "</style>\n",
              "<table border=\"1\" class=\"dataframe\">\n",
              "  <thead>\n",
              "    <tr style=\"text-align: right;\">\n",
              "      <th></th>\n",
              "      <th>star_rating</th>\n",
              "      <th>vine_count</th>\n",
              "      <th>non_vine_count</th>\n",
              "    </tr>\n",
              "  </thead>\n",
              "  <tbody>\n",
              "    <tr>\n",
              "      <th>0</th>\n",
              "      <td>1</td>\n",
              "      <td>0.051576</td>\n",
              "      <td>0.250130</td>\n",
              "    </tr>\n",
              "    <tr>\n",
              "      <th>1</th>\n",
              "      <td>2</td>\n",
              "      <td>0.065903</td>\n",
              "      <td>0.073198</td>\n",
              "    </tr>\n",
              "    <tr>\n",
              "      <th>2</th>\n",
              "      <td>3</td>\n",
              "      <td>0.187202</td>\n",
              "      <td>0.087323</td>\n",
              "    </tr>\n",
              "    <tr>\n",
              "      <th>3</th>\n",
              "      <td>4</td>\n",
              "      <td>0.337154</td>\n",
              "      <td>0.151438</td>\n",
              "    </tr>\n",
              "    <tr>\n",
              "      <th>4</th>\n",
              "      <td>5</td>\n",
              "      <td>0.358166</td>\n",
              "      <td>0.437911</td>\n",
              "    </tr>\n",
              "  </tbody>\n",
              "</table>\n",
              "</div>"
            ],
            "text/plain": [
              "   star_rating  vine_count  non_vine_count\n",
              "0            1    0.051576        0.250130\n",
              "1            2    0.065903        0.073198\n",
              "2            3    0.187202        0.087323\n",
              "3            4    0.337154        0.151438\n",
              "4            5    0.358166        0.437911"
            ]
          },
          "metadata": {
            "tags": []
          },
          "execution_count": 31
        }
      ]
    },
    {
      "cell_type": "code",
      "metadata": {
        "id": "Cqxa9GNhyMvr",
        "colab_type": "code",
        "outputId": "c40e2a7d-dadb-42fc-ed0a-e3ff7929068d",
        "colab": {
          "base_uri": "https://localhost:8080/",
          "height": 294
        }
      },
      "source": [
        "# vine / non_vine normalized \"star_rating\" distribution\n",
        "final_pdf.plot(x=\"star_rating\", y=[\"vine_count\", \"non_vine_count\"], kind=\"bar\")"
      ],
      "execution_count": 0,
      "outputs": [
        {
          "output_type": "execute_result",
          "data": {
            "text/plain": [
              "<matplotlib.axes._subplots.AxesSubplot at 0x7f9a8b7ef2e8>"
            ]
          },
          "metadata": {
            "tags": []
          },
          "execution_count": 32
        },
        {
          "output_type": "display_data",
          "data": {
            "image/png": "[encoded data removed]",
            "text/plain": [
              "<Figure size 432x288 with 1 Axes>"
            ]
          },
          "metadata": {
            "tags": [],
            "needs_background": "light"
          }
        }
      ]
    },
    {
      "cell_type": "markdown",
      "metadata": {
        "id": "cRHqQ6xSKjMc",
        "colab_type": "text"
      },
      "source": [
        "### statistics"
      ]
    },
    {
      "cell_type": "code",
      "metadata": {
        "id": "uwx3KATcHYxg",
        "colab_type": "code",
        "colab": {}
      },
      "source": [
        "vine_arr = vine_arr.astype(float)"
      ],
      "execution_count": 0,
      "outputs": []
    },
    {
      "cell_type": "code",
      "metadata": {
        "id": "0osZo01xNMy8",
        "colab_type": "code",
        "outputId": "7842a0fd-28b3-4ab8-f62d-3a84061e39d7",
        "colab": {
          "base_uri": "https://localhost:8080/",
          "height": 34
        }
      },
      "source": [
        "# vine's \"star_rating\" statistics\n",
        "stats.describe(vine_arr)"
      ],
      "execution_count": 0,
      "outputs": [
        {
          "output_type": "execute_result",
          "data": {
            "text/plain": [
              "DescribeResult(nobs=1047, minmax=(1.0, 5.0), mean=3.884431709646609, variance=1.2610097866799617, skewness=-0.9267782697431367, kurtosis=0.19481679188842582)"
            ]
          },
          "metadata": {
            "tags": []
          },
          "execution_count": 34
        }
      ]
    },
    {
      "cell_type": "code",
      "metadata": {
        "id": "vk02Ow_HNM1r",
        "colab_type": "code",
        "outputId": "c8346096-f7e9-4531-e047-10964e9bb7c3",
        "colab": {
          "base_uri": "https://localhost:8080/",
          "height": 34
        }
      },
      "source": [
        "# quick check on distribution.\n",
        "stats.normaltest(vine_arr)"
      ],
      "execution_count": 0,
      "outputs": [
        {
          "output_type": "execute_result",
          "data": {
            "text/plain": [
              "NormaltestResult(statistic=114.09473154224875, pvalue=1.6774278084337289e-25)"
            ]
          },
          "metadata": {
            "tags": []
          },
          "execution_count": 35
        }
      ]
    },
    {
      "cell_type": "code",
      "metadata": {
        "id": "4bVqd9AAISyH",
        "colab_type": "code",
        "colab": {}
      },
      "source": [
        "non_vine_arr = non_vine_arr.astype(float)"
      ],
      "execution_count": 0,
      "outputs": []
    },
    {
      "cell_type": "code",
      "metadata": {
        "id": "ChdSZod359Kg",
        "colab_type": "code",
        "outputId": "b3202e3f-5249-41e2-de46-9463e029579d",
        "colab": {
          "base_uri": "https://localhost:8080/",
          "height": 34
        }
      },
      "source": [
        "# non-vine's \"star_rating\" statistics\n",
        "stats.describe(non_vine_arr)"
      ],
      "execution_count": 0,
      "outputs": [
        {
          "output_type": "execute_result",
          "data": {
            "text/plain": [
              "DescribeResult(nobs=142586, minmax=(1.0, 5.0), mean=3.4538033186988906, variance=2.770881947331554, skewness=-0.4954615396356368, kurtosis=-1.448054688850543)"
            ]
          },
          "metadata": {
            "tags": []
          },
          "execution_count": 37
        }
      ]
    },
    {
      "cell_type": "code",
      "metadata": {
        "id": "pwTTQQ86NM4r",
        "colab_type": "code",
        "outputId": "9d7f095b-b8c8-4b5f-8403-7a7cb25504ae",
        "colab": {
          "base_uri": "https://localhost:8080/",
          "height": 34
        }
      },
      "source": [
        "# quick check on distribution.\n",
        "stats.normaltest(non_vine_arr)"
      ],
      "execution_count": 0,
      "outputs": [
        {
          "output_type": "execute_result",
          "data": {
            "text/plain": [
              "NormaltestResult(statistic=1020225.5090764561, pvalue=0.0)"
            ]
          },
          "metadata": {
            "tags": []
          },
          "execution_count": 38
        }
      ]
    },
    {
      "cell_type": "markdown",
      "metadata": {
        "id": "L5gCfzlu_6fJ",
        "colab_type": "text"
      },
      "source": [
        "test on the mean \"star_rating\" from the vine and non-vine groups  \n",
        "*   null hypothesis: the mean values are statistically same\n",
        "*   alternative hypothesis: the mean values are not statistically same."
      ]
    },
    {
      "cell_type": "code",
      "metadata": {
        "id": "pjP48ymWNM-a",
        "colab_type": "code",
        "outputId": "b79e27cf-f789-4b03-884b-1f1d3fd86109",
        "colab": {
          "base_uri": "https://localhost:8080/",
          "height": 34
        }
      },
      "source": [
        "# standard independent 2 sample test\n",
        "stats.ttest_ind(vine_arr, non_vine_arr)"
      ],
      "execution_count": 0,
      "outputs": [
        {
          "output_type": "execute_result",
          "data": {
            "text/plain": [
              "Ttest_indResult(statistic=8.356833269777933, pvalue=6.49889943959176e-17)"
            ]
          },
          "metadata": {
            "tags": []
          },
          "execution_count": 39
        }
      ]
    },
    {
      "cell_type": "code",
      "metadata": {
        "id": "XIjX2i3ONNBS",
        "colab_type": "code",
        "outputId": "c4fc482b-f9a4-40ad-f4f3-b78e9afae3cf",
        "colab": {
          "base_uri": "https://localhost:8080/",
          "height": 34
        }
      },
      "source": [
        "# Welch’s t-test\n",
        "stats.ttest_ind(vine_arr, non_vine_arr, equal_var=False)"
      ],
      "execution_count": 0,
      "outputs": [
        {
          "output_type": "execute_result",
          "data": {
            "text/plain": [
              "Ttest_indResult(statistic=12.309518431531407, pvalue=1.1139719931541857e-32)"
            ]
          },
          "metadata": {
            "tags": []
          },
          "execution_count": 40
        }
      ]
    },
    {
      "cell_type": "code",
      "metadata": {
        "id": "sWdonVhHG-vP",
        "colab_type": "code",
        "colab": {}
      },
      "source": [
        ""
      ],
      "execution_count": 0,
      "outputs": []
    }
  ]
}